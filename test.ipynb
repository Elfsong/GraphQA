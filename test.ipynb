{
 "cells": [
  {
   "cell_type": "code",
   "execution_count": 2,
   "metadata": {},
   "outputs": [],
   "source": [
    "import json\n",
    "import torch\n",
    "import transformers\n",
    "import numpy as np\n",
    "from tqdm import tqdm\n",
    "from transformers import pipeline\n",
    "from transformers import AutoTokenizer, BertForQuestionAnswering\n",
    "transformers.logging.set_verbosity_error()"
   ]
  },
  {
   "cell_type": "code",
   "execution_count": null,
   "metadata": {},
   "outputs": [],
   "source": [
    "# Replace this with your own checkpoint\n",
    "model_checkpoint = \"exp/test_0\"\n",
    "# model_checkpoint = \"deepset/bert-base-uncased-squad2\"\n",
    "qa_pipeline = pipeline(\"question-answering\", model=model_checkpoint, tokenizer=AutoTokenizer.from_pretrained(\"bert-base-uncased\"))"
   ]
  },
  {
   "cell_type": "code",
   "execution_count": 3,
   "metadata": {},
   "outputs": [],
   "source": [
    "with open(\"./data/squad_v2/raw/dev-v2.0.json\", \"r\") as source_file:\n",
    "    raw_data = json.load(source_file)[\"data\"]"
   ]
  },
  {
   "cell_type": "code",
   "execution_count": 4,
   "metadata": {},
   "outputs": [],
   "source": [
    "model = BertForQuestionAnswering.from_pretrained('deepset/bert-base-uncased-squad2').to('cuda:1')\n",
    "tokenizer = AutoTokenizer.from_pretrained(\"deepset/bert-base-uncased-squad2\")\n",
    "\n",
    "def get_answer(question, context):\n",
    "    inputs = tokenizer(question, context, max_length=384, padding=\"max_length\", truncation=\"only_second\", return_tensors=\"pt\").to(\"cuda:1\")\n",
    "    with torch.no_grad():\n",
    "        outputs = model(**inputs)\n",
    "\n",
    "    answer_start_index = outputs.start_logits.argmax()\n",
    "    answer_end_index = outputs.end_logits.argmax()\n",
    "\n",
    "    predict_answer_tokens = inputs.input_ids[0, answer_start_index : answer_end_index + 1]\n",
    "    answer = tokenizer.decode(predict_answer_tokens)\n",
    "    return answer"
   ]
  },
  {
   "cell_type": "code",
   "execution_count": 5,
   "metadata": {},
   "outputs": [
    {
     "name": "stderr",
     "output_type": "stream",
     "text": [
      "100%|██████████| 35/35 [01:46<00:00,  3.05s/it]\n"
     ]
    }
   ],
   "source": [
    "answer_dict = {}\n",
    "for article in tqdm(raw_data):\n",
    "        title = article[\"title\"]\n",
    "        paragraphs = article[\"paragraphs\"]\n",
    "        for paragraph in paragraphs:\n",
    "            context = paragraph[\"context\"]\n",
    "            qas = paragraph[\"qas\"]\n",
    "            for qa in qas:\n",
    "                qid = qa[\"id\"]\n",
    "                question = qa[\"question\"]\n",
    "                # answer = qa_pipeline(question=question, context=context, handle_impossible_answer=True)\n",
    "                # answer_dict[qid] = answer[\"answer\"]\n",
    "                answer = get_answer(question=question, context=context)\n",
    "                answer_dict[qid] = answer"
   ]
  },
  {
   "cell_type": "code",
   "execution_count": null,
   "metadata": {},
   "outputs": [],
   "source": [
    "with open(\"./data/squad_v2/processed/pred.json\", \"w\") as wf:\n",
    "    wf.write(json.dumps(answer_dict))"
   ]
  },
  {
   "cell_type": "code",
   "execution_count": 1,
   "metadata": {},
   "outputs": [
    {
     "name": "stdout",
     "output_type": "stream",
     "text": [
      "{\n",
      "  \"exact\": 22.732249642044977,\n",
      "  \"f1\": 27.523669015646554,\n",
      "  \"total\": 11873,\n",
      "  \"HasAns_exact\": 32.05128205128205,\n",
      "  \"HasAns_f1\": 41.647861373612024,\n",
      "  \"HasAns_total\": 5928,\n",
      "  \"NoAns_exact\": 13.43986543313709,\n",
      "  \"NoAns_f1\": 13.43986543313709,\n",
      "  \"NoAns_total\": 5945\n",
      "}\n"
     ]
    }
   ],
   "source": [
    "!python squad_eval.py ./data/squad_v2/raw/dev-v2.0.json ./data/squad_v2/processed/pred_squad.json "
   ]
  },
  {
   "cell_type": "code",
   "execution_count": null,
   "metadata": {},
   "outputs": [],
   "source": []
  }
 ],
 "metadata": {
  "kernelspec": {
   "display_name": "Python 3.7.12 ('syntax')",
   "language": "python",
   "name": "python3"
  },
  "language_info": {
   "codemirror_mode": {
    "name": "ipython",
    "version": 3
   },
   "file_extension": ".py",
   "mimetype": "text/x-python",
   "name": "python",
   "nbconvert_exporter": "python",
   "pygments_lexer": "ipython3",
   "version": "3.7.12"
  },
  "orig_nbformat": 4,
  "vscode": {
   "interpreter": {
    "hash": "c86a73a47477ba0aeb5784a0601a09572162e340e9fb1f4748688670acf6653e"
   }
  }
 },
 "nbformat": 4,
 "nbformat_minor": 2
}
